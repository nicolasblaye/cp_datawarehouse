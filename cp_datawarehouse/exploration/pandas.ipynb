{
 "cells": [
  {
   "cell_type": "code",
   "execution_count": 22,
   "metadata": {
    "collapsed": false
   },
   "outputs": [],
   "source": [
    "import pandas as pd"
   ]
  },
  {
   "cell_type": "markdown",
   "metadata": {},
   "source": [
    "Write a function which returns a dataframe listing all the users, with the following columns:\n",
    "* user_id\n",
    "* loyalty_status\n",
    " * loyalty_status_txt\n",
    " * daily_date: date of ride day\n",
    " * nb_rides: number of completed rides made by the user for the given day\n",
    " * total_price: total ride price spent by the user for the given day"
   ]
  },
  {
   "cell_type": "code",
   "execution_count": 32,
   "metadata": {},
   "outputs": [
    {
     "data": {
      "text/html": [
       "<div>\n",
       "<style scoped>\n",
       "    .dataframe tbody tr th:only-of-type {\n",
       "        vertical-align: middle;\n",
       "    }\n",
       "\n",
       "    .dataframe tbody tr th {\n",
       "        vertical-align: top;\n",
       "    }\n",
       "\n",
       "    .dataframe thead th {\n",
       "        text-align: right;\n",
       "    }\n",
       "</style>\n",
       "<table border=\"1\" class=\"dataframe\">\n",
       "  <thead>\n",
       "    <tr style=\"text-align: right;\">\n",
       "      <th></th>\n",
       "      <th></th>\n",
       "      <th>loyalty_status</th>\n",
       "      <th>loyalty_status_txt</th>\n",
       "      <th>nb_rides</th>\n",
       "      <th>total_price</th>\n",
       "    </tr>\n",
       "    <tr>\n",
       "      <th>user_id</th>\n",
       "      <th>daily_date</th>\n",
       "      <th></th>\n",
       "      <th></th>\n",
       "      <th></th>\n",
       "      <th></th>\n",
       "    </tr>\n",
       "  </thead>\n",
       "  <tbody>\n",
       "    <tr>\n",
       "      <th rowspan=\"4\" valign=\"top\">0457dec1ec689903dfc4bdd218eb7ce2</th>\n",
       "      <th>2018-03-31</th>\n",
       "      <td>3</td>\n",
       "      <td>platinum</td>\n",
       "      <td>1</td>\n",
       "      <td>4.15</td>\n",
       "    </tr>\n",
       "    <tr>\n",
       "      <th>2018-05-14</th>\n",
       "      <td>3</td>\n",
       "      <td>platinum</td>\n",
       "      <td>1</td>\n",
       "      <td>11.40</td>\n",
       "    </tr>\n",
       "    <tr>\n",
       "      <th>2018-04-09</th>\n",
       "      <td>3</td>\n",
       "      <td>platinum</td>\n",
       "      <td>1</td>\n",
       "      <td>4.00</td>\n",
       "    </tr>\n",
       "    <tr>\n",
       "      <th>2018-05-21</th>\n",
       "      <td>3</td>\n",
       "      <td>platinum</td>\n",
       "      <td>1</td>\n",
       "      <td>12.17</td>\n",
       "    </tr>\n",
       "    <tr>\n",
       "      <th>d596ade95dbb9d89e9b17dc51cb80280</th>\n",
       "      <th>2018-05-26</th>\n",
       "      <td>2</td>\n",
       "      <td>gold</td>\n",
       "      <td>1</td>\n",
       "      <td>6.75</td>\n",
       "    </tr>\n",
       "  </tbody>\n",
       "</table>\n",
       "</div>"
      ],
      "text/plain": [
       "<div>\n",
       "<style scoped>\n",
       "    .dataframe tbody tr th:only-of-type {\n",
       "        vertical-align: middle;\n",
       "    }\n",
       "\n",
       "    .dataframe tbody tr th {\n",
       "        vertical-align: top;\n",
       "    }\n",
       "\n",
       "    .dataframe thead th {\n",
       "        text-align: right;\n",
       "    }\n",
       "</style>\n",
       "<table border=\"1\" class=\"dataframe\">\n",
       "  <thead>\n",
       "    <tr style=\"text-align: right;\">\n",
       "      <th></th>\n",
       "      <th></th>\n",
       "      <th>loyalty_status</th>\n",
       "      <th>loyalty_status_txt</th>\n",
       "      <th>nb_rides</th>\n",
       "      <th>total_price</th>\n",
       "    </tr>\n",
       "    <tr>\n",
       "      <th>user_id</th>\n",
       "      <th>daily_date</th>\n",
       "      <th></th>\n",
       "      <th></th>\n",
       "      <th></th>\n",
       "      <th></th>\n",
       "    </tr>\n",
       "  </thead>\n",
       "  <tbody>\n",
       "    <tr>\n",
       "      <th rowspan=\"4\" valign=\"top\">0457dec1ec689903dfc4bdd218eb7ce2</th>\n",
       "      <th>2018-03-31</th>\n",
       "      <td>3</td>\n",
       "      <td>platinum</td>\n",
       "      <td>1</td>\n",
       "      <td>4.15</td>\n",
       "    </tr>\n",
       "    <tr>\n",
       "      <th>2018-05-14</th>\n",
       "      <td>3</td>\n",
       "      <td>platinum</td>\n",
       "      <td>1</td>\n",
       "      <td>11.40</td>\n",
       "    </tr>\n",
       "    <tr>\n",
       "      <th>2018-04-09</th>\n",
       "      <td>3</td>\n",
       "      <td>platinum</td>\n",
       "      <td>1</td>\n",
       "      <td>4.00</td>\n",
       "    </tr>\n",
       "    <tr>\n",
       "      <th>2018-05-21</th>\n",
       "      <td>3</td>\n",
       "      <td>platinum</td>\n",
       "      <td>1</td>\n",
       "      <td>12.17</td>\n",
       "    </tr>\n",
       "    <tr>\n",
       "      <th>d596ade95dbb9d89e9b17dc51cb80280</th>\n",
       "      <th>2018-05-26</th>\n",
       "      <td>2</td>\n",
       "      <td>gold</td>\n",
       "      <td>1</td>\n",
       "      <td>6.75</td>\n",
       "    </tr>\n",
       "  </tbody>\n",
       "</table>\n",
       "</div>"
      ]
     },
     "execution_count": 32,
     "metadata": {},
     "output_type": "execute_result"
    }
   ],
   "source": [
    "def dataframe_by_user_and_date():\n",
    "    rides_dt = pd.read_csv(\"./raw_data/rides.csv\", delimiter=\",\")\n",
    "    users_dt = pd.read_csv(\"./raw_data/users.csv\", delimiter=\",\")\n",
    "\n",
    "    joined_df = pd.merge(rides_dt, users_dt, on=['user_id'])\n",
    "\n",
    "    joined_df['daily_date'] = pd.to_datetime(rides_dt['quote_date']).dt.date\n",
    "    joined_df.set_index(['user_id', 'daily_date'], inplace=True)\n",
    "    \n",
    "    by_user_and_date = joined_df.groupby(['user_id', 'daily_date'])\n",
    "    joined_df['nb_rides'] = by_user_and_date['price_nominal'].count()\n",
    "    joined_df['total_price'] = by_user_and_date['price_nominal'].sum()\n",
    "    \n",
    "    return joined_df[['loyalty_status', 'loyalty_status_txt', 'nb_rides', 'total_price']]\n",
    "    \n",
    "    \n",
    "dataframe_by_user_and_date().head()"
   ]
  },
  {
   "cell_type": "markdown",
   "metadata": {},
   "source": [
    "Write a function which returns a dataframe listing the average basket per day. The average basket is the average completed ride price for a given period of time."
   ]
  },
  {
   "cell_type": "code",
   "execution_count": 43,
   "metadata": {},
   "outputs": [
    {
     "data": {
      "text/plain": [
       "daily_date\n2018-03-01    6.276262\n2018-03-02    6.182083\n2018-03-03    6.064492\n2018-03-04    6.443470\n2018-03-05    6.349550\nName: price_nominal, dtype: float64"
      ]
     },
     "execution_count": 43,
     "metadata": {},
     "output_type": "execute_result"
    }
   ],
   "source": [
    "def average_basket_by_day():\n",
    "    rides_dt = pd.read_csv(\"./raw_data/rides.csv\", delimiter=\",\")\n",
    "    rides_dt['daily_date'] = pd.to_datetime(rides_dt['quote_date']).dt.date\n",
    "    completed_dt = rides_dt[rides_dt['state'].str.strip() == 'completed']\n",
    "    completed_dt.set_index('daily_date', inplace=True)\n",
    "    \n",
    "    return completed_dt.groupby('daily_date')['price_nominal'].mean()\n",
    "\n",
    "average_basket_by_day().head()"
   ]
  },
  {
   "cell_type": "markdown",
   "metadata": {},
   "source": [
    "Write a function which returns a dataframe listing the 5 days with the lowest number of completed rides, ordered chronologically."
   ]
  },
  {
   "cell_type": "code",
   "execution_count": null,
   "metadata": {},
   "outputs": [],
   "source": []
  }
 ],
 "metadata": {
  "kernelspec": {
   "display_name": "Python 2",
   "language": "python",
   "name": "python2"
  },
  "language_info": {
   "codemirror_mode": {
    "name": "ipython",
    "version": 2
   },
   "file_extension": ".py",
   "mimetype": "text/x-python",
   "name": "python",
   "nbconvert_exporter": "python",
   "pygments_lexer": "ipython2",
   "version": "2.7.6"
  }
 },
 "nbformat": 4,
 "nbformat_minor": 0
}
