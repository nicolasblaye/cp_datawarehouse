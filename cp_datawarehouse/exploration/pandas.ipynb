{
 "cells": [
  {
   "cell_type": "code",
   "execution_count": 13,
   "metadata": {
    "collapsed": true
   },
   "outputs": [
    {
     "data": {
      "text/plain": [
       "900000"
      ]
     },
     "execution_count": 13,
     "metadata": {},
     "output_type": "execute_result"
    }
   ],
   "source": [
    "import pandas as pd"
   ]
  },
  {
   "cell_type": "code",
   "execution_count": null,
   "metadata": {},
   "outputs": [],
   "source": [
    "# Question 1: list all user with loyalty status, and all their rides by day\n",
    "rides_dt = pd.read_csv(\"./raw_data/rides.csv\", delimiter=\",\")\n",
    "users_dt = pd.read_csv(\"./raw_data/users.csv\", delimiter=\",\")\n",
    "\n",
    "joined_df = pd.merge(rides_dt, users_dt, on=['user_id'])\n",
    "\n",
    "joined_df['daily_date'] = pd.to_datetime(rides_dt['quote_date']).dt.date\n",
    "joined_df.set_index(['user_id', 'daily_date'], inplace=True)\n",
    "\n",
    "by_user_and_date = joined_df.groupby(['user_id', 'daily_date'])\n",
    "joined_df['nb_rides'] = by_user_and_date['price_nominal'].count()\n",
    "joined_df['total_price'] = by_user_and_date['price_nominal'].sum()\n",
    "\n",
    "result = joined_df[['loyalty_status', 'loyalty_status_txt', 'nb_rides', 'total_price']]\n",
    "\n",
    "result.head()"
   ]
  },
  {
   "cell_type": "code",
   "execution_count": null,
   "metadata": {},
   "outputs": [],
   "source": []
  }
 ],
 "metadata": {
  "kernelspec": {
   "display_name": "Python 2",
   "language": "python",
   "name": "python2"
  },
  "language_info": {
   "codemirror_mode": {
    "name": "ipython",
    "version": 2
   },
   "file_extension": ".py",
   "mimetype": "text/x-python",
   "name": "python",
   "nbconvert_exporter": "python",
   "pygments_lexer": "ipython2",
   "version": "2.7.6"
  }
 },
 "nbformat": 4,
 "nbformat_minor": 0
}
